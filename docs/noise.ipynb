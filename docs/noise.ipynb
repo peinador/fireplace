{
 "cells": [
  {
   "cell_type": "markdown",
   "metadata": {},
   "source": [
    "# Flame animation\n",
    "This notebook explains the process of creating the fire animation for the LEDs.\n",
    "\n",
    "The principle behind the animation is simple and relies on three components:\n",
    "1. A Perlin Noise generator\n",
    "2. A vertical gradient mask\n",
    "3. A colormap to convert floats $\\in[0,1]$ to RGB colours.\n",
    "\n",
    "By far, the most complex component is the Perlin noise generator. Perlin noise is a type or procedural noise that can be used to generate psudo-fractal noise.\n",
    "\n",
    "Our implementation is based on the [`perlin-numpy`](https://github.com/pvigier/perlin-numpy) module. Its author also has a great [blog post](https://pvigier.github.io/2018/06/13/perlin-noise-numpy.html) exmplaining the generation algorithm. \n",
    "\n",
    "This module does not use `perlin-numpy` directly because the initial approach demanded additional functionality not present in `perlin-numpy`. In particular, it needed to dynamically create scrollable noise.\n",
    "\n",
    "\n",
    "The cell below shows Perlin noise in different grid sizes, including the 8x8 grid used for the animation.\n"
   ]
  },
  {
   "cell_type": "code",
   "execution_count": null,
   "metadata": {},
   "outputs": [],
   "source": [
    "from time import sleep\n",
    "from matplotlib import pyplot as plt\n",
    "import numpy as np\n",
    "from fireplace.lights.noise import PerlinNoise\n",
    "\n",
    "shapes = [200,20,8]\n",
    "\n",
    "fig, ax = plt.subplots(nrows=1,ncols=len(shapes),figsize = (10,5), dpi = 100)\n",
    "\n",
    "for i,shape in enumerate(shapes):\n",
    "    perlin = PerlinNoise(shape=(shape,shape),seed=75)\n",
    "    noise = perlin.render(octaves=7)\n",
    "    ax[i].imshow(noise.T)\n",
    "    ax[i].set_title(f\"Perlin noise of shape {shape}x{shape}\")\n",
    "    ax[i].set_xticks([])\n",
    "    ax[i].set_yticks([])"
   ]
  },
  {
   "cell_type": "markdown",
   "metadata": {},
   "source": [
    "This is then combined with a gradient filter to simulate the cooling down of the flame as it raises"
   ]
  },
  {
   "cell_type": "code",
   "execution_count": null,
   "metadata": {},
   "outputs": [],
   "source": [
    "from fireplace.lights.noise import quadratic_mask\n",
    "\n",
    "shape = (20,20)\n",
    "\n",
    "\n",
    "vertical_filter = quadratic_mask((20,20), 0.6, 1.2)\n",
    "perlin = PerlinNoise(shape=shape,seed=75)\n",
    "noise = perlin.render(octaves=7)\n",
    "image = (noise * vertical_filter)\n",
    "\n",
    "\n",
    "fig, ax = plt.subplots(nrows=1,ncols=len(shapes),figsize = (10,5), dpi = 100)\n",
    "\n",
    "\n",
    "ax[0].imshow(noise.T,vmax=1,vmin=0)\n",
    "ax[0].set_title(f\"Perlin noise\")\n",
    "ax[0].set_xticks([])\n",
    "ax[0].set_yticks([])\n",
    "\n",
    "ax[1].imshow(vertical_filter.T,vmax=1,vmin=0)\n",
    "ax[1].set_title(f\"Vertical filter\")\n",
    "ax[1].set_xticks([])\n",
    "ax[1].set_yticks([])\n",
    "\n",
    "ax[2].imshow(image.T,vmax=1,vmin=0)\n",
    "ax[2].set_title(f\"noise x filter\")\n",
    "ax[2].set_xticks([])\n",
    "ax[2].set_yticks([])\n",
    "\n"
   ]
  },
  {
   "cell_type": "markdown",
   "metadata": {},
   "source": [
    "The third and last component is the colour, obtained by using a colourmap to give a realistic colour to the flame"
   ]
  },
  {
   "cell_type": "code",
   "execution_count": null,
   "metadata": {},
   "outputs": [],
   "source": [
    "from fireplace.lights.utils import ColorMap, hex_to_rgb\n",
    "\n",
    "HEX_PALETTE = [\n",
    "    \"1f0900\",\n",
    "    \"54370b\",\n",
    "    \"754b03\",\n",
    "    \"8e5318\",\n",
    "    \"ad5c00\",\n",
    "    \"d97b09\",\n",
    "    \"fa9a2c\",\n",
    "    \"fcb308\",\n",
    "]\n",
    "# https://coolors.co/1f0900-54370b-754b03-8e5318-ad5c00-d97b09-fa9a2c-fcb308\n",
    "rgb_palette = [hex_to_rgb(color) for color in HEX_PALETTE]\n",
    "\n",
    "colormap = ColorMap(palette=rgb_palette)\n",
    "\n",
    "plt.imshow(colormap(image.T))\n",
    "plt.xticks([])\n",
    "plt.yticks([])\n"
   ]
  },
  {
   "cell_type": "markdown",
   "metadata": {},
   "source": [
    "The only thing that remains is to simulate the vertical movement of the flame. This turns out to be the most complicated step of the process"
   ]
  },
  {
   "cell_type": "markdown",
   "metadata": {},
   "source": [
    "## Dynamic genneration [too slow]\n",
    "\n",
    "The original ideas was to dynamically generate new rows of noise to generate the vertical movement. This was achieved using the `pixel_offset` parameter, which displaces the grid by a set amount."
   ]
  },
  {
   "cell_type": "code",
   "execution_count": null,
   "metadata": {},
   "outputs": [],
   "source": [
    "from time import sleep\n",
    "from IPython.display import clear_output\n",
    "\n",
    "size = (8, 8)\n",
    "\n",
    "perlin = PerlinNoise(shape=size, repetition_period=200)\n",
    "filter = quadratic_mask(size, 0.6, 1.2)\n",
    "\n",
    "for shift in range(100):\n",
    "    noise = perlin.render(octaves=4, pixel_offset=(0, shift), relative_factor=2)\n",
    "    image = (noise * filter).T\n",
    "    image = colormap(image)\n",
    "    plt.imshow(image)\n",
    "    plt.xticks([])\n",
    "    plt.yticks([])\n",
    "    plt.show()  \n",
    "    sleep(0.05)  \n",
    "    clear_output(wait=True)  # clear the output for the next loop\n"
   ]
  },
  {
   "cell_type": "markdown",
   "metadata": {},
   "source": [
    "Unfortunately this turned out to be too slow to get a decent frame rate in the Raspberry Pi.\n",
    "The code runs really quickly on a laptop, but it is slower on the pi. Moreover, the action of sending the data to the LEDs already takes a relatively long time every cycle, so there is not much margin for lenghtly calculations.  "
   ]
  },
  {
   "cell_type": "code",
   "execution_count": null,
   "metadata": {},
   "outputs": [],
   "source": [
    "%%time\n",
    "\n",
    "for shift in range(10_000):\n",
    "    noise = perlin.render(octaves=4,pixel_offset=(0,shift))\n",
    "\n",
    "# CPU times: user 6.56 s, sys: 5.48 ms, total: 6.57 s\n",
    "# Wall time: 6.59 s"
   ]
  },
  {
   "cell_type": "markdown",
   "metadata": {},
   "source": [
    "# Pre-computed noise approach\n",
    "\n",
    "The solution was to generate the noise in the installation process, and load it at runtime. Below we just show a portion of the strip."
   ]
  },
  {
   "cell_type": "code",
   "execution_count": null,
   "metadata": {},
   "outputs": [],
   "source": [
    "from fireplace.lights.noise import load_noise, noise_files_dir, generate_noise_files\n",
    "\n",
    "\n",
    "# run the line below if the noise files have not been generated yet\n",
    "# generate_noise_files(noise_files_dir=noise_files_dir,n_files=6,length=30 * 60 * 1)\n",
    "noise = load_noise(noise_files_dir)\n",
    "noise_back = load_noise(noise_files_dir)\n",
    "\n",
    "# now the noise array contains a long strip of noise\n",
    "\n",
    "plt.figure(figsize = (5,20))\n",
    "plt.imshow(noise[:50],interpolation=\"nearest\")\n",
    "plt.xticks([])\n",
    "plt.yticks([])\n"
   ]
  },
  {
   "cell_type": "markdown",
   "metadata": {},
   "source": [
    "At runtime, we only show 8 rows at a time:"
   ]
  },
  {
   "cell_type": "code",
   "execution_count": null,
   "metadata": {},
   "outputs": [],
   "source": [
    "#%%time\n",
    "\n",
    "window = 8\n",
    "max_step = noise.shape[0]-window\n",
    "step = 0\n",
    "for i in range(200):\n",
    "    if step < max_step:\n",
    "        screen = noise[step:(step+window)]\n",
    "    else:\n",
    "        step = 0\n",
    "        noise = noise_back\n",
    "        max_step = noise.shape[0]-window\n",
    "        noise_back = load_noise(noise_files_dir)\n",
    "        screen = noise[step:(step+window)]\n",
    "    step+=1\n",
    "    image = screen*filter.T\n",
    "    image = colormap(image)\n",
    "    # show\n",
    "    plt.imshow(image)\n",
    "    plt.xticks([])\n",
    "    plt.yticks([])\n",
    "    plt.show()  # show the plot\n",
    "    sleep(0.05)\n",
    "    clear_output(wait=True)  # clear the output for the next loop\n",
    "\n"
   ]
  },
  {
   "cell_type": "markdown",
   "metadata": {},
   "source": [
    "We can see that this is much faster, by an order of magnitude, than the dynamic generation"
   ]
  },
  {
   "cell_type": "code",
   "execution_count": null,
   "metadata": {},
   "outputs": [],
   "source": [
    "%%time\n",
    "\n",
    "window = 8\n",
    "max_step = noise.shape[0]-window\n",
    "step = 0\n",
    "for i in range(10_000):\n",
    "    if step < max_step:\n",
    "        screen = noise[step:(step+window)]\n",
    "    else:\n",
    "        step = 0\n",
    "        noise = noise_back\n",
    "        max_step = noise.shape[0]-window\n",
    "        noise_back = load_noise(noise_files_dir)\n",
    "        screen = noise[step:(step+window)]\n",
    "    step+=1\n",
    "    image = screen*filter.T\n",
    "    image = colormap(image)\n",
    "\n",
    "\n",
    "# CPU times: user 304 ms, sys: 3.47 ms, total: 308 ms\n",
    "# Wall time: 312 ms\n"
   ]
  }
 ],
 "metadata": {
  "kernelspec": {
   "display_name": "rpi",
   "language": "python",
   "name": "python3"
  },
  "language_info": {
   "codemirror_mode": {
    "name": "ipython",
    "version": 3
   },
   "file_extension": ".py",
   "mimetype": "text/x-python",
   "name": "python",
   "nbconvert_exporter": "python",
   "pygments_lexer": "ipython3",
   "version": "3.9.18"
  }
 },
 "nbformat": 4,
 "nbformat_minor": 2
}
