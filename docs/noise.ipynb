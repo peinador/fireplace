{
 "cells": [
  {
   "cell_type": "markdown",
   "metadata": {},
   "source": [
    "# Pre-computed noise approach"
   ]
  },
  {
   "cell_type": "code",
   "execution_count": null,
   "metadata": {},
   "outputs": [],
   "source": [
    "from fireplace.lights.noise import load_noise, noise_files_dir\n",
    "from matplotlib import pyplot as plt\n",
    "from time import sleep\n",
    "import matplotlib.pyplot as plt\n",
    "from IPython.display import clear_output\n",
    "\n",
    "%matplotlib inline"
   ]
  },
  {
   "cell_type": "code",
   "execution_count": null,
   "metadata": {},
   "outputs": [],
   "source": [
    "noise = load_noise(noise_files_dir)\n",
    "noise_back = load_noise(noise_files_dir)\n",
    "\n",
    "plt.figure(figsize = (5,20))\n",
    "plt.imshow(noise[:50],interpolation=\"nearest\")\n",
    "\n",
    "screen_size = (8,8)"
   ]
  },
  {
   "cell_type": "code",
   "execution_count": null,
   "metadata": {},
   "outputs": [],
   "source": [
    "from collections import deque\n",
    "from fireplace.lights.noise import quadratic_mask\n",
    "from utils import ColorMap, hex_to_rgb\n",
    "import numpy as np\n",
    "\n",
    "# https://coolors.co/260c02-482d45-542c0b-a95404-d46d2a-f6a362-fdf37d\n",
    "HEX_PALETTE = [\"260c02\", \"482d45\", \"542c0b\", \"a95404\", \"d46d2a\", \"f6a362\", \"fdf37d\"]\n",
    "rgb_palette = [hex_to_rgb(color) for color in HEX_PALETTE]\n",
    "\n",
    "colormap = ColorMap(rgb_palette)\n",
    "\n",
    "test_mask = quadratic_mask(screen_size, 0.6, 1.2).T\n"
   ]
  },
  {
   "cell_type": "code",
   "execution_count": null,
   "metadata": {},
   "outputs": [],
   "source": [
    "#%%time\n",
    "\n",
    "window = screen_size[1]\n",
    "max_step = noise.shape[0]-window\n",
    "step = 0\n",
    "for i in range(100):\n",
    "    if step < max_step:\n",
    "        screen = noise[step:(step+window)]\n",
    "    else:\n",
    "        step = 0\n",
    "        noise = noise_back\n",
    "        max_step = noise.shape[0]-window\n",
    "        noise_back = load_noise(noise_files_dir)\n",
    "        screen = noise[step:(step+window)]\n",
    "    step+=1\n",
    "    image = screen*test_mask\n",
    "    image = colormap(image)\n",
    "    # show\n",
    "    plt.imshow(image)\n",
    "    plt.show()  # show the plot\n",
    "    sleep(0.00)  # pause for a second\n",
    "    clear_output(wait=True)  # clear the output for the next loop\n",
    "\n"
   ]
  },
  {
   "cell_type": "code",
   "execution_count": null,
   "metadata": {},
   "outputs": [],
   "source": [
    "#%%time\n",
    "\n",
    "screen = deque()\n",
    "noise_iter = iter(noise)\n",
    "\n",
    "for i in range(screen_size[1]):\n",
    "    row = next(noise_iter)\n",
    "    screen.append(row)\n",
    "\n",
    "for i in range(50000):\n",
    "    try:\n",
    "        row = next(noise_iter)\n",
    "    except StopIteration:\n",
    "        noise_iter = iter(noise_back)\n",
    "        noise_back = load_noise(noise_files_dir)\n",
    "        row = next(noise_iter)\n",
    "\n",
    "    # compile new screen\n",
    "    screen.popleft()\n",
    "    screen.append(row)\n",
    "\n",
    "    window = np.array(screen)\n",
    "\n",
    "    image = colormap(screen*test_mask)\n",
    "\n",
    "    #plt.imshow(image)\n",
    "    #plt.show()  # show the plot\n",
    "    #sleep(0.00)  # pause for a second\n",
    "    #clear_output(wait=True)  # clear the output for the next loop\n",
    "\n",
    "\n"
   ]
  },
  {
   "cell_type": "markdown",
   "metadata": {},
   "source": [
    "# Old code to dynamically generate the noise [too slow]"
   ]
  },
  {
   "cell_type": "code",
   "execution_count": null,
   "metadata": {},
   "outputs": [],
   "source": [
    "from time import sleep\n",
    "from typing import List, Tuple\n",
    "from matplotlib import pyplot as plt\n",
    "import numpy as np\n",
    "from fireplace.lights.noise import PerlinNoise\n",
    "\n",
    "perlin = PerlinNoise(shape=(8,8))\n",
    "\n",
    "noise = perlin.render(octaves=5,pixel_offset=(0,10))\n",
    "plt.imshow(noise.T)"
   ]
  },
  {
   "cell_type": "code",
   "execution_count": null,
   "metadata": {},
   "outputs": [],
   "source": [
    "%%time\n",
    "\n",
    "for shift in range(50000):\n",
    "    noise = perlin.render(octaves=4,pixel_offset=(0,shift))\n",
    "    #plt.imshow(noise.T)\n",
    "    #plt.show()  # show the plot\n",
    "    #sleep(0.0)  # pause for a second\n",
    "    #clear_output(wait=True)  # clear the output for the next loop\"\"\""
   ]
  },
  {
   "cell_type": "code",
   "execution_count": null,
   "metadata": {},
   "outputs": [],
   "source": [
    "from time import sleep\n",
    "import matplotlib.pyplot as plt\n",
    "from IPython.display import clear_output\n",
    "import numpy as np\n",
    "from noise import PerlinNoise, quadratic_mask\n",
    "\n",
    "size = (15, 15)\n",
    "\n",
    "perlin = PerlinNoise(shape=size, repetition_period=200)\n",
    "test_mask = quadratic_mask(size, 0.6, 1.2)\n",
    "\n",
    "\n",
    "for shift in range(50):\n",
    "    noise = perlin.render(octaves=4, pixel_offset=(0, shift), relative_factor=2)\n",
    "    image = (noise * test_mask).T\n",
    "    image[0, 0] = 1\n",
    "    image[0, 1] = 0\n",
    "    plt.imshow(image)\n",
    "    plt.show()  # show the plot\n",
    "    sleep(0.05)  # pause for a second\n",
    "    clear_output(wait=True)  # clear the output for the next loop\n",
    "# print(p)"
   ]
  },
  {
   "cell_type": "code",
   "execution_count": null,
   "metadata": {},
   "outputs": [],
   "source": [
    "from utils import ColorMap, hex_to_rgb\n",
    "\n",
    "# https://coolors.co/260c02-482d45-542c0b-a95404-d46d2a-f6a362-fdf37d\n",
    "HEX_PALETTE = [\"260c02\", \"482d45\", \"542c0b\", \"a95404\", \"d46d2a\", \"f6a362\", \"fdf37d\"]\n",
    "rgb_palette = [hex_to_rgb(color) for color in HEX_PALETTE]\n",
    "\n",
    "colormap = ColorMap(rgb_palette)\n",
    "\n",
    "for shift in range(200):\n",
    "    noise = perlin.render(octaves=4, pixel_offset=(0, shift), relative_factor=2)\n",
    "    image = (noise * test_mask).T\n",
    "    plt.imshow(colormap(image))\n",
    "    plt.show()  # show the plot\n",
    "    sleep(0.05)  # pause for a second\n",
    "    clear_output(wait=True)  # clear the output for the next loop"
   ]
  }
 ],
 "metadata": {
  "kernelspec": {
   "display_name": "rpi",
   "language": "python",
   "name": "python3"
  },
  "language_info": {
   "codemirror_mode": {
    "name": "ipython",
    "version": 3
   },
   "file_extension": ".py",
   "mimetype": "text/x-python",
   "name": "python",
   "nbconvert_exporter": "python",
   "pygments_lexer": "ipython3",
   "version": "3.9.18"
  }
 },
 "nbformat": 4,
 "nbformat_minor": 2
}
